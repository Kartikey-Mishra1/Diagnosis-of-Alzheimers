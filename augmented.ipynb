{
 "cells": [
  {
   "cell_type": "code",
   "execution_count": 1,
   "metadata": {},
   "outputs": [
    {
     "name": "stderr",
     "output_type": "stream",
     "text": [
      "Using TensorFlow backend.\n"
     ]
    }
   ],
   "source": [
    "import keras\n",
    "import numpy as np\n",
    "from keras.preprocessing.image import ImageDataGenerator\n",
    "from keras import optimizers\n",
    "from keras.optimizers import Adam\n",
    "import tensorflow as tf"
   ]
  },
  {
   "cell_type": "code",
   "execution_count": 14,
   "metadata": {},
   "outputs": [
    {
     "name": "stdout",
     "output_type": "stream",
     "text": [
      "Found 52 images belonging to 1 classes.\n"
     ]
    }
   ],
   "source": [
    "train_data_dir = \"D:/Dataset/ter\"\n",
    "#validation_data_dir = \"D:/Dataset/Test\"\n",
    "batch_size = 13\n",
    "img_height = 208\n",
    "img_width = 176\n",
    "numClasses=4\n",
    "epoch=10\n",
    "train_datagen= ImageDataGenerator(\n",
    "        rescale= 1./255, \n",
    "        shear_range= 0.2,\n",
    "        zoom_range= 0.2, \n",
    "        horizontal_flip= True)\n",
    "''''train_generator= train_datagen.flow_from_directory(\n",
    "        train_data_dir, target_size= (img_height, img_width),\n",
    "        batch_size= batch_size,\n",
    "        save_to_dir=\"D:/Dataset/New folder\",\n",
    "        class_mode=\"categorical\")'''\n",
    "i = 0\n",
    "for batch in train_datagen.flow_from_directory( train_data_dir, target_size= (img_height, img_width),\n",
    "    class_mode='categorical', batch_size=batch_size,\n",
    "    save_to_dir=\"D:/Dataset/New folder/augmented\"):\n",
    "\n",
    "    i += 1\n",
    "    if i>30: \n",
    "        break  \n"
   ]
  },
  {
   "cell_type": "code",
   "execution_count": null,
   "metadata": {},
   "outputs": [],
   "source": []
  }
 ],
 "metadata": {
  "kernelspec": {
   "display_name": "Python 3",
   "language": "python",
   "name": "python3"
  },
  "language_info": {
   "codemirror_mode": {
    "name": "ipython",
    "version": 3
   },
   "file_extension": ".py",
   "mimetype": "text/x-python",
   "name": "python",
   "nbconvert_exporter": "python",
   "pygments_lexer": "ipython3",
   "version": "3.6.10"
  }
 },
 "nbformat": 4,
 "nbformat_minor": 4
}
