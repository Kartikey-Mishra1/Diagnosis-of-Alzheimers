{
 "cells": [
  {
   "cell_type": "code",
   "execution_count": 1,
   "metadata": {},
   "outputs": [
    {
     "name": "stderr",
     "output_type": "stream",
     "text": [
      "Using TensorFlow backend.\n"
     ]
    }
   ],
   "source": [
    "from numpy import loadtxt\n",
    "from keras.models import load_model"
   ]
  },
  {
   "cell_type": "code",
   "execution_count": 2,
   "metadata": {},
   "outputs": [],
   "source": [
    "model = load_model('model1.h5')"
   ]
  },
  {
   "cell_type": "code",
   "execution_count": 15,
   "metadata": {},
   "outputs": [
    {
     "name": "stdout",
     "output_type": "stream",
     "text": [
      "Found 1279 images belonging to 4 classes.\n",
      "Confusion Matrix\n",
      "[[ 69   2  47  61]\n",
      " [  3   3   1   5]\n",
      " [  7   0 544  89]\n",
      " [  7   0 104 337]]\n"
     ]
    }
   ],
   "source": [
    "from sklearn.metrics import classification_report, confusion_matrix\n",
    "from keras.preprocessing.image import ImageDataGenerator\n",
    "from keras.models import Sequential, Model\n",
    "train_data_dir = \"D:/Dataset/Test\"\n",
    "batch_size = 13\n",
    "img_height = 208\n",
    "img_width = 176\n",
    "numClasses=4\n",
    "validation_datagen= ImageDataGenerator(\n",
    "        rescale= 1./255)\n",
    "train_generator=validation_datagen.flow_from_directory(\n",
    "        train_data_dir, target_size= (img_height, img_width),\n",
    "        batch_size= batch_size,\n",
    "        class_mode= 'categorical',\n",
    "        shuffle=False)\n",
    "\n",
    "num_test=1279\n",
    "\n",
    "import numpy as np\n",
    "x_pred = model.predict_generator(train_generator,num_test // batch_size+1)\n",
    "x_pred = np.argmax(x_pred, axis=1)\n",
    "print('Confusion Matrix')\n",
    "print(confusion_matrix(train_generator.classes, x_pred))"
   ]
  },
  {
   "cell_type": "code",
   "execution_count": 16,
   "metadata": {},
   "outputs": [
    {
     "name": "stdout",
     "output_type": "stream",
     "text": [
      "                    precision    recall  f1-score   support\n",
      "\n",
      "      MildDemented       0.80      0.39      0.52       179\n",
      "Modearteddemented1       0.60      0.25      0.35        12\n",
      "       NonDemented       0.78      0.85      0.81       640\n",
      "  VeryMildDemented       0.68      0.75      0.72       448\n",
      "\n",
      "          accuracy                           0.75      1279\n",
      "         macro avg       0.72      0.56      0.60      1279\n",
      "      weighted avg       0.75      0.75      0.73      1279\n",
      "\n"
     ]
    }
   ],
   "source": [
    "target_names = ['MildDemented', 'Modearteddemented1', 'NonDemented','VeryMildDemented']\n",
    "print(classification_report(train_generator.classes, x_pred, target_names=target_names))\n"
   ]
  },
  {
   "cell_type": "code",
   "execution_count": null,
   "metadata": {},
   "outputs": [],
   "source": []
  }
 ],
 "metadata": {
  "kernelspec": {
   "display_name": "Python 3",
   "language": "python",
   "name": "python3"
  },
  "language_info": {
   "codemirror_mode": {
    "name": "ipython",
    "version": 3
   },
   "file_extension": ".py",
   "mimetype": "text/x-python",
   "name": "python",
   "nbconvert_exporter": "python",
   "pygments_lexer": "ipython3",
   "version": "3.6.10"
  }
 },
 "nbformat": 4,
 "nbformat_minor": 2
}
